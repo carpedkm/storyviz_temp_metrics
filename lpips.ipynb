{
 "cells": [
  {
   "cell_type": "markdown",
   "metadata": {},
   "source": [
    "## Import packages"
   ]
  },
  {
   "cell_type": "code",
   "execution_count": 42,
   "metadata": {},
   "outputs": [],
   "source": [
    "import os\n",
    "import lpips\n",
    "import cv2\n",
    "from PIL import Image\n",
    "import torch"
   ]
  },
  {
   "cell_type": "code",
   "execution_count": 43,
   "metadata": {},
   "outputs": [
    {
     "name": "stdout",
     "output_type": "stream",
     "text": [
      "Setting up [LPIPS] perceptual loss: trunk [alex], v[0.1], spatial [off]\n",
      "Loading model from: /opt/conda/lib/python3.8/site-packages/lpips/weights/v0.1/alex.pth\n"
     ]
    }
   ],
   "source": [
    "loss_fn_alex = lpips.LPIPS(net='alex')"
   ]
  },
  {
   "cell_type": "markdown",
   "metadata": {},
   "source": [
    "## SET ID to evaluate"
   ]
  },
  {
   "cell_type": "code",
   "execution_count": 44,
   "metadata": {},
   "outputs": [],
   "source": [
    "# SET UP THE DIRECTORY\n",
    "dir_to_eval = '/root/test'\n",
    "id_to_eval = 1451 # give the ID HERE"
   ]
  },
  {
   "cell_type": "code",
   "execution_count": 45,
   "metadata": {},
   "outputs": [],
   "source": [
    "full_path_for_id_gt = os.path.join(dir_to_eval, 'gt', str(id_to_eval))\n",
    "full_path_for_id_pseudo = os.path.join(dir_to_eval, 'pseudo', str(id_to_eval))"
   ]
  },
  {
   "cell_type": "markdown",
   "metadata": {},
   "source": [
    "## LPIPS averaging"
   ]
  },
  {
   "cell_type": "code",
   "execution_count": 48,
   "metadata": {},
   "outputs": [
    {
     "name": "stdout",
     "output_type": "stream",
     "text": [
      "LPIPS LOSS:  0.48778351545333865\n"
     ]
    }
   ],
   "source": [
    "loss=0\n",
    "with torch.no_grad():\n",
    "    for idx in range(1, 6):\n",
    "        tmp_gt = os.path.join(full_path_for_id_gt, str(idx)+'.png')\n",
    "        tmp_pseudo = os.path.join(full_path_for_id_pseudo, str(idx)+'.png')\n",
    "        im_gt = cv2.cvtColor(cv2.imread(tmp_gt), cv2.COLOR_BGR2RGB)\n",
    "        im_ps = cv2.cvtColor(cv2.imread(tmp_pseudo), cv2.COLOR_BGR2RGB)\n",
    "        \n",
    "        im_gt = im_gt / 256 # normalize 0 to 1, and turning on normalize True on loss_fn_alex would automatically normalize it to -1 to 1\n",
    "        im_ps = im_ps / 256\n",
    "        im_gt = torch.from_numpy(im_gt).permute(2, 0, 1).unsqueeze(0).to(torch.float32)\n",
    "        im_ps = torch.from_numpy(im_ps).permute(2, 0, 1).unsqueeze(0).to(torch.float32)\n",
    "        # print(im_gt.shape, im_ps.shape)\n",
    "        \n",
    "        loss += float(loss_fn_alex(im_gt, im_ps, normalize=True))\n",
    "    \n",
    "print('LPIPS LOSS: ', loss / 5)\n",
    "    \n",
    "        "
   ]
  },
  {
   "cell_type": "code",
   "execution_count": null,
   "metadata": {},
   "outputs": [],
   "source": []
  }
 ],
 "metadata": {
  "kernelspec": {
   "display_name": "Python 3.8.12 ('base')",
   "language": "python",
   "name": "python3"
  },
  "language_info": {
   "codemirror_mode": {
    "name": "ipython",
    "version": 3
   },
   "file_extension": ".py",
   "mimetype": "text/x-python",
   "name": "python",
   "nbconvert_exporter": "python",
   "pygments_lexer": "ipython3",
   "version": "3.8.3"
  },
  "orig_nbformat": 4,
  "vscode": {
   "interpreter": {
    "hash": "d4d1e4263499bec80672ea0156c357c1ee493ec2b1c70f0acce89fc37c4a6abe"
   }
  }
 },
 "nbformat": 4,
 "nbformat_minor": 2
}
